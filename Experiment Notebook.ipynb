{
 "cells": [
  {
   "cell_type": "code",
   "execution_count": 19,
   "id": "022d93cd-2b04-473c-a925-5045e027e345",
   "metadata": {},
   "outputs": [
    {
     "name": "stdout",
     "output_type": "stream",
     "text": [
      "2024-04-01 16:51:09.651330\n",
      "2024-04-01-16-51\n",
      "<class 'str'>\n"
     ]
    }
   ],
   "source": [
    "from datetime import datetime, timedelta\n",
    "time_day = datetime.utcnow() + timedelta(hours=3)\n",
    "\n",
    "print(time_day)\n",
    "print(time_day.strftime('%Y-%m-%d-%H-%M'))\n",
    "print(type(time_day.time().strftime('%H:%M:%S')))\n",
    "# print(type(time_day.date() + time_day.time().strftime('%H:%M:%S')))"
   ]
  },
  {
   "cell_type": "code",
   "execution_count": null,
   "id": "f38db67f-e24e-453d-aac0-9fe8e2d5e5a0",
   "metadata": {},
   "outputs": [],
   "source": []
  }
 ],
 "metadata": {
  "kernelspec": {
   "display_name": "Python 3 (ipykernel)",
   "language": "python",
   "name": "python3"
  },
  "language_info": {
   "codemirror_mode": {
    "name": "ipython",
    "version": 3
   },
   "file_extension": ".py",
   "mimetype": "text/x-python",
   "name": "python",
   "nbconvert_exporter": "python",
   "pygments_lexer": "ipython3",
   "version": "3.9.13"
  }
 },
 "nbformat": 4,
 "nbformat_minor": 5
}
